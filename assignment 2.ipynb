{
 "cells": [
  {
   "cell_type": "raw",
   "metadata": {},
   "source": [
    "Question 1 \n",
    "Write a Python program to remove empty List from List.\n"
   ]
  },
  {
   "cell_type": "code",
   "execution_count": 1,
   "metadata": {},
   "outputs": [
    {
     "name": "stdout",
     "output_type": "stream",
     "text": [
      "list is; [1, 2, 3, [], 3]\n",
      "after removing empty list from list: [1, 2, 3, 3]\n"
     ]
    }
   ],
   "source": [
    "list1=[1,2,3,[],3]\n",
    "print(\"list is;\",list1)\n",
    "list2=[i for i in list1 if i!=[] ]\n",
    "print(\"after removing empty list from list: \"+str(list2))"
   ]
  },
  {
   "cell_type": "raw",
   "metadata": {},
   "source": [
    "Question 2 \n",
    "Write a Python program to remove all duplicates words from a given sentence\n"
   ]
  },
  {
   "cell_type": "code",
   "execution_count": 2,
   "metadata": {},
   "outputs": [
    {
     "name": "stdout",
     "output_type": "stream",
     "text": [
      "Enter the String:In Avengers team Captain America, Captain Marvel and Ms Marvel are best Avengers\n",
      "\n",
      "After removing dublicate words from string:  In Avengers team Captain America, Marvel and Ms are best\n"
     ]
    }
   ],
   "source": [
    "String1=input(\"Enter the String:\")\n",
    "list1=String1.split(\" \")\n",
    "k=[]\n",
    "print(\"\")\n",
    "for i in list1:\n",
    "    if i not in k:\n",
    "        k.append(i)\n",
    "print(\"After removing dublicate words from string: \",\" \".join(k))"
   ]
  },
  {
   "cell_type": "raw",
   "metadata": {},
   "source": [
    "Question 3 \n",
    "Write a Python program to find all occurrences of a character in the given string\n"
   ]
  },
  {
   "cell_type": "code",
   "execution_count": 3,
   "metadata": {},
   "outputs": [
    {
     "name": "stdout",
     "output_type": "stream",
     "text": [
      "Enter the String:Avengers: Infinity War is my favorite marvel movie.\n",
      "Enter character to find occurencei\n",
      "Occurence of Character i is: 5\n"
     ]
    }
   ],
   "source": [
    "String1=input(\"Enter the String:\")\n",
    "char=input(\"Enter character to find occurence\")\n",
    "num=0\n",
    "for i in String1:\n",
    "    if char==i:\n",
    "        num=num+1\n",
    "print(\"Occurence of Character\",char,\"is:\",num)"
   ]
  },
  {
   "cell_type": "code",
   "execution_count": null,
   "metadata": {},
   "outputs": [],
   "source": []
  },
  {
   "cell_type": "code",
   "execution_count": null,
   "metadata": {},
   "outputs": [],
   "source": []
  }
 ],
 "metadata": {
  "kernelspec": {
   "display_name": "Python 3",
   "language": "python",
   "name": "python3"
  },
  "language_info": {
   "codemirror_mode": {
    "name": "ipython",
    "version": 3
   },
   "file_extension": ".py",
   "mimetype": "text/x-python",
   "name": "python",
   "nbconvert_exporter": "python",
   "pygments_lexer": "ipython3",
   "version": "3.7.6"
  }
 },
 "nbformat": 4,
 "nbformat_minor": 4
}
